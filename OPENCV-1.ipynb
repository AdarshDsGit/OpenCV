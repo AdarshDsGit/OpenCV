{
 "cells": [
  {
   "cell_type": "code",
   "execution_count": 1,
   "id": "a732e727",
   "metadata": {},
   "outputs": [],
   "source": [
    "import cv2"
   ]
  },
  {
   "cell_type": "code",
   "execution_count": 2,
   "id": "1a4a6f2e",
   "metadata": {},
   "outputs": [],
   "source": [
    "import numpy as np"
   ]
  },
  {
   "cell_type": "markdown",
   "id": "e73b720e",
   "metadata": {},
   "source": [
    "## READING IMAGE"
   ]
  },
  {
   "cell_type": "code",
   "execution_count": 3,
   "id": "44a916e3",
   "metadata": {},
   "outputs": [],
   "source": [
    "image = cv2.imread('C:/Project/opencv/sampleimages/cat.jpeg')"
   ]
  },
  {
   "cell_type": "code",
   "execution_count": 4,
   "id": "3767e285",
   "metadata": {},
   "outputs": [],
   "source": [
    "cv2.imshow(\"Best Cat\", image)\n",
    "cv2.waitKey()\n",
    "cv2.destroyAllWindows()"
   ]
  },
  {
   "cell_type": "code",
   "execution_count": 5,
   "id": "aabb470e",
   "metadata": {},
   "outputs": [
    {
     "name": "stdout",
     "output_type": "stream",
     "text": [
      "(707, 712, 3)\n"
     ]
    }
   ],
   "source": [
    "##image stored\n",
    "\n",
    "print(image.shape)"
   ]
  },
  {
   "cell_type": "code",
   "execution_count": 6,
   "id": "91538772",
   "metadata": {},
   "outputs": [
    {
     "name": "stdout",
     "output_type": "stream",
     "text": [
      "Height of image 707\n",
      "Width of image 712\n"
     ]
    }
   ],
   "source": [
    "print(\"Height of image\" , int(image.shape[0]))\n",
    "print(\"Width of image\" , int(image.shape[1]))"
   ]
  },
  {
   "cell_type": "markdown",
   "id": "b17e4d97",
   "metadata": {},
   "source": [
    "## Save Image"
   ]
  },
  {
   "cell_type": "code",
   "execution_count": 7,
   "id": "4567b49b",
   "metadata": {},
   "outputs": [
    {
     "data": {
      "text/plain": [
       "True"
      ]
     },
     "execution_count": 7,
     "metadata": {},
     "output_type": "execute_result"
    }
   ],
   "source": [
    "##you can change the image format also\n",
    "\n",
    "cv2.imwrite(\"Cat2.png\",image)"
   ]
  },
  {
   "cell_type": "code",
   "execution_count": null,
   "id": "1a201ca4",
   "metadata": {},
   "outputs": [],
   "source": []
  }
 ],
 "metadata": {
  "kernelspec": {
   "display_name": "Python 3 (ipykernel)",
   "language": "python",
   "name": "python3"
  },
  "language_info": {
   "codemirror_mode": {
    "name": "ipython",
    "version": 3
   },
   "file_extension": ".py",
   "mimetype": "text/x-python",
   "name": "python",
   "nbconvert_exporter": "python",
   "pygments_lexer": "ipython3",
   "version": "3.9.16"
  }
 },
 "nbformat": 4,
 "nbformat_minor": 5
}
